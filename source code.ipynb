{
  "nbformat": 4,
  "nbformat_minor": 0,
  "metadata": {
    "colab": {
      "provenance": []
    },
    "kernelspec": {
      "name": "python3",
      "display_name": "Python 3"
    },
    "language_info": {
      "name": "python"
    }
  },
  "cells": [
    {
      "cell_type": "code",
      "execution_count": 2,
      "metadata": {
        "colab": {
          "base_uri": "https://localhost:8080/"
        },
        "id": "sEDacJincY7m",
        "outputId": "0af351eb-ea3d-4086-ec8f-a155f59aff50"
      },
      "outputs": [
        {
          "output_type": "stream",
          "name": "stdout",
          "text": [
            "Loading movies dataset...\n",
            "Welcome to the MovieLens AI-Driven Movie Recommender!\n",
            "Type your favorite genres, keywords, or themes (e.g., 'action sci-fi space'):\n",
            "Your preferences: iron\n",
            "\n",
            "Top movie recommendations for you:\n",
            "1. Man in the Iron Mask, The (1998) [Action Drama Romance] (match score: 0.58)\n",
            "2. Scream of Stone (Schrei aus Stein) (1991) [Drama] (match score: 0.00)\n",
            "3. Village of the Damned (1995) [Horror Thriller] (match score: 0.00)\n",
            "4. Waterworld (1995) [Action Adventure] (match score: 0.00)\n",
            "5. White Man's Burden (1995) [Drama] (match score: 0.00)\n",
            "6. Wild Bill (1995) [Western] (match score: 0.00)\n",
            "7. Farinelli: il castrato (1994) [Drama Musical] (match score: 0.00)\n",
            "8. Heavenly Creatures (1994) [Drama Fantasy Thriller] (match score: 0.00)\n",
            "9. Interview with the Vampire (1994) [Drama Horror] (match score: 0.00)\n",
            "10. Kid in King Arthur's Court, A (1995) [Adventure Children's Comedy Fantasy Romance Sci-Fi] (match score: 0.00)\n"
          ]
        }
      ],
      "source": [
        "import os\n",
        "import pandas as pd\n",
        "from sklearn.feature_extraction.text import TfidfVectorizer\n",
        "from sklearn.metrics.pairwise import linear_kernel\n",
        "\n",
        "# Path to the u.item file (update this if your path is different)\n",
        "DATA_PATH = \"/content/u.item\"\n",
        "\n",
        "# Movie genres as per MovieLens 100K documentation\n",
        "GENRES = [\n",
        "    \"Unknown\", \"Action\", \"Adventure\", \"Animation\", \"Children's\", \"Comedy\",\n",
        "    \"Crime\", \"Documentary\", \"Drama\", \"Fantasy\", \"Film-Noir\", \"Horror\",\n",
        "    \"Musical\", \"Mystery\", \"Romance\", \"Sci-Fi\", \"Thriller\", \"War\", \"Western\"\n",
        "]\n",
        "\n",
        "def load_movies(data_path):\n",
        "    # u.item is pipe-separated, with the first 5 columns as:\n",
        "    # movie id | movie title | release date | video release date | IMDb URL\n",
        "    # followed by 19 binary genre flags\n",
        "    columns = [\n",
        "        \"movie_id\", \"title\", \"release_date\", \"video_release_date\", \"imdb_url\"\n",
        "    ] + GENRES\n",
        "    movies = pd.read_csv(\n",
        "        data_path, sep='|', encoding='latin-1', header=None, names=columns\n",
        "    )\n",
        "    # Combine genres into a string for each movie\n",
        "    def get_genres(row):\n",
        "        return ' '.join([genre for genre in GENRES if row[genre] == 1])\n",
        "    movies[\"genres\"] = movies.apply(get_genres, axis=1)\n",
        "    # Use only title and genres for content-based filtering\n",
        "    movies[\"content\"] = movies[\"title\"] + \" \" + movies[\"genres\"]\n",
        "    return movies[[\"movie_id\", \"title\", \"genres\", \"content\"]]\n",
        "\n",
        "def build_feature_matrix(movies):\n",
        "    vectorizer = TfidfVectorizer(stop_words='english')\n",
        "    feature_matrix = vectorizer.fit_transform(movies[\"content\"])\n",
        "    return feature_matrix, vectorizer\n",
        "\n",
        "def recommend_movies(user_preferences, movies, feature_matrix, vectorizer, top_n=10):\n",
        "    user_vec = vectorizer.transform([user_preferences])\n",
        "    cosine_similarities = linear_kernel(user_vec, feature_matrix).flatten()\n",
        "    top_indices = cosine_similarities.argsort()[-top_n:][::-1]\n",
        "    recommendations = [(movies.iloc[i][\"title\"], movies.iloc[i][\"genres\"], cosine_similarities[i]) for i in top_indices]\n",
        "    return recommendations\n",
        "\n",
        "def main():\n",
        "    if not os.path.exists(DATA_PATH):\n",
        "        print(f\"Dataset not found at {DATA_PATH}. Please download MovieLens 100K and set the correct path.\")\n",
        "        return\n",
        "\n",
        "    print(\"Loading movies dataset...\")\n",
        "    movies = load_movies(DATA_PATH)\n",
        "    feature_matrix, vectorizer = build_feature_matrix(movies)\n",
        "\n",
        "    print(\"Welcome to the MovieLens AI-Driven Movie Recommender!\")\n",
        "    print(\"Type your favorite genres, keywords, or themes (e.g., 'action sci-fi space'):\")\n",
        "    user_input = input(\"Your preferences: \")\n",
        "\n",
        "    recommendations = recommend_movies(user_input, movies, feature_matrix, vectorizer)\n",
        "    print(\"\\nTop movie recommendations for you:\")\n",
        "    for idx, (title, genres, score) in enumerate(recommendations, 1):\n",
        "        print(f\"{idx}. {title} [{genres}] (match score: {score:.2f})\")\n",
        "\n",
        "if __name__ == \"__main__\":\n",
        "    main()\n",
        "\n"
      ]
    }
  ]
}